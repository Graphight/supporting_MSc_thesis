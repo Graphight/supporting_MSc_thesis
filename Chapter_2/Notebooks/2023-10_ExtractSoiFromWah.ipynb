{
 "cells": [
  {
   "cell_type": "markdown",
   "id": "4144f26e-963a-4448-ad55-34cc49a2566f",
   "metadata": {
    "jp-MarkdownHeadingCollapsed": true,
    "tags": []
   },
   "source": [
    "# Imports"
   ]
  },
  {
   "cell_type": "code",
   "execution_count": null,
   "id": "4f84dc66-ce6f-4884-9bea-9cdddba454db",
   "metadata": {
    "tags": []
   },
   "outputs": [],
   "source": [
    "import re\n",
    "import gc\n",
    "import geopandas\n",
    "\n",
    "import pandas as pd\n",
    "import numpy as np\n",
    "import bamboolib as bam\n",
    "import netCDF4 as nc\n",
    "import xarray as xr\n",
    "\n",
    "import plotly.express as px\n",
    "import cartopy.crs as ccrs\n",
    "import matplotlib.pyplot as plt\n",
    "import matplotlib.ticker as mticker\n",
    "import matplotlib.animation as anim \n",
    "import plotly.graph_objects as go \n",
    "\n",
    "from matplotlib import transforms\n",
    "from cartopy import config\n",
    "from cartopy.mpl.gridliner import LONGITUDE_FORMATTER, LATITUDE_FORMATTER\n",
    "from tqdm.auto import tqdm\n",
    "from glob import glob\n",
    "from json import load, dumps\n",
    "from os import makedirs, path"
   ]
  },
  {
   "cell_type": "code",
   "execution_count": null,
   "id": "ba8121a3-218a-4f4a-902f-bd2c241d7d6c",
   "metadata": {
    "tags": []
   },
   "outputs": [],
   "source": [
    "pd.set_option('display.max_rows', 500)\n",
    "pd.set_option('display.max_columns', 500)\n",
    "pd.set_option('display.width', 1000)\n",
    "\n",
    "from IPython.display import display, HTML\n",
    "display(HTML(\"<style>.container { width:85% !important; }</style>\"))"
   ]
  },
  {
   "cell_type": "code",
   "execution_count": null,
   "id": "8d5bd993-6ffa-4031-aa65-692504efc22c",
   "metadata": {},
   "outputs": [],
   "source": []
  },
  {
   "cell_type": "markdown",
   "id": "5784e5fb-7995-4388-ab7c-4087f1bec9bc",
   "metadata": {
    "tags": []
   },
   "source": [
    "# Misc"
   ]
  },
  {
   "cell_type": "markdown",
   "id": "14203b8e-3f21-449e-ad8a-36391dc8d99c",
   "metadata": {},
   "source": [
    "Tahiti\n",
    "\n",
    "- Actual coords: 17.6509° S, 149.4260° W\n",
    "- Closest in the global simulation: -17.75    210.00\n",
    "\n",
    "Darwin\n",
    "\n",
    "- Actual coords: 12.4637° S, 130.8444° E\n",
    "- Closest in the global simulation: -12.50   -130.00"
   ]
  },
  {
   "cell_type": "code",
   "execution_count": null,
   "id": "3d5e354f-c7d5-40f1-8ce1-294c96f8cdc5",
   "metadata": {},
   "outputs": [],
   "source": []
  },
  {
   "cell_type": "markdown",
   "id": "2a151b66-f069-4874-beb5-b764833330a0",
   "metadata": {
    "jp-MarkdownHeadingCollapsed": true,
    "tags": []
   },
   "source": [
    "# Explore doing this with a single file"
   ]
  },
  {
   "cell_type": "code",
   "execution_count": null,
   "id": "44786d7f-b69a-4ed7-a373-5e1775ec22c7",
   "metadata": {},
   "outputs": [],
   "source": [
    "ds_global = xr.load_dataset(\"/Users/tomm/projects/ALL-Global_MSLP/item16222_monthly_mean_v000_1985-12_1986-11.nc\")\n",
    "\n",
    "df_global = ds_global.to_dataframe()\n",
    "df_global = df_global.reset_index()\n",
    "\n",
    "df_global"
   ]
  },
  {
   "cell_type": "code",
   "execution_count": null,
   "id": "71f2c449-7f69-42db-af5e-3bd2a1aad403",
   "metadata": {},
   "outputs": [],
   "source": []
  },
  {
   "cell_type": "code",
   "execution_count": null,
   "id": "e680c543-acf6-40e5-bf26-750362dfb47a",
   "metadata": {
    "tags": []
   },
   "outputs": [],
   "source": [
    "df_temp = df_global.copy()\n",
    "df_temp[\"year\"] = df_temp[\"time2\"].astype(str).str[:4]\n",
    "df_temp[\"date\"] = df_temp[\"time2\"].astype(str).str[:10]\n",
    "# df_temp = df_temp.loc[df_temp[\"year\"] == \"1985\"]\n",
    "df_temp"
   ]
  },
  {
   "cell_type": "code",
   "execution_count": null,
   "id": "148369ad-2fd4-4eaf-88ca-ccf0fb3d6abd",
   "metadata": {
    "tags": []
   },
   "outputs": [],
   "source": [
    "fig = px.scatter(\n",
    "    df_temp, \n",
    "    x='longitude0', \n",
    "    y='latitude0', \n",
    "    color='item16222_monthly_mean', \n",
    "    width=1000,\n",
    "    height=700,\n",
    "    animation_frame=\"date\"\n",
    ")\n",
    "fig.add_shape(\n",
    "    x0=209.5,\n",
    "    x1=210.5,\n",
    "    y0=-17.0,\n",
    "    y1=-18.0,\n",
    "    name=\"Tahiti\"\n",
    ")\n",
    "fig.add_shape(\n",
    "    x0=129.5,\n",
    "    x1=130.5,\n",
    "    y0=-12.0,\n",
    "    y1=-13.0,\n",
    "    name=\"Darwin\"\n",
    ")\n",
    "fig"
   ]
  },
  {
   "cell_type": "code",
   "execution_count": null,
   "id": "b5022ba4-9031-4d17-931d-90ca1ccc628d",
   "metadata": {},
   "outputs": [],
   "source": []
  },
  {
   "cell_type": "code",
   "execution_count": null,
   "id": "7f3a6101-8a4e-4126-b7c9-bb2150c65e4b",
   "metadata": {},
   "outputs": [],
   "source": []
  },
  {
   "cell_type": "code",
   "execution_count": null,
   "id": "976a3fbf-6c42-4f3a-bad8-14a45f469fb4",
   "metadata": {},
   "outputs": [],
   "source": []
  },
  {
   "cell_type": "code",
   "execution_count": null,
   "id": "a403d77e-b35d-48ba-8acd-f452e3cbdc3c",
   "metadata": {
    "tags": []
   },
   "outputs": [],
   "source": [
    "df_important = df_global.loc[\n",
    "    (\n",
    "        (df_global[\"longitude0\"]==210) & (df_global[\"latitude0\"]==-17.5)\n",
    "    ) | (\n",
    "        (df_global[\"longitude0\"]==131.25) & (df_global[\"latitude0\"]==-12.5)\n",
    "    )\n",
    "]\n",
    "\n",
    "df_important.reset_index(drop=True, inplace=True)\n",
    "\n",
    "df_important.loc[df_important[\"latitude0\"] == -17.5, \"location\"] = \"Tahiti\"\n",
    "df_important.loc[df_important[\"latitude0\"] == -12.5, \"location\"] = \"Darwin\"\n",
    "\n",
    "df_important"
   ]
  },
  {
   "cell_type": "code",
   "execution_count": null,
   "id": "387d52d6-818c-439d-a00b-a2f4faf66ab9",
   "metadata": {},
   "outputs": [],
   "source": [
    "target_col = \"item16222_monthly_mean\"\n",
    "\n",
    "df_tahiti = df_important.loc[df_important[\"location\"] == \"Tahiti\"]\n",
    "df_darwin = df_important.loc[df_important[\"location\"] == \"Darwin\"]\n",
    "\n",
    "tahiti_mean = df_tahiti[target_col].mean()\n",
    "tahiti_std = df_tahiti[target_col].std()\n",
    "\n",
    "darwin_mean = df_darwin[target_col].mean()\n",
    "darwin_std = df_darwin[target_col].std()\n",
    "\n",
    "df_tahiti[\"standardised\"] = (df_tahiti[target_col] - tahiti_mean) / tahiti_std\n",
    "df_darwin[\"standardised\"] = (df_darwin[target_col] - darwin_mean) / darwin_std"
   ]
  },
  {
   "cell_type": "code",
   "execution_count": null,
   "id": "36c164b2-c78f-4b87-9bb4-1f409704905a",
   "metadata": {
    "tags": []
   },
   "outputs": [],
   "source": [
    "df_tahiti[\"time2\"] = df_tahiti[\"time2\"].astype(str)\n",
    "df_tahiti['time2'] = pd.to_datetime(df_tahiti['time2'], format='%Y-%m-%d %H:%M:%S')\n",
    "df_tahiti[\"month\"] = df_tahiti[\"time2\"].dt.month.astype(str).str.rjust(2, \"0\")\n",
    "df_tahiti[\"year\"] = df_tahiti[\"time2\"].dt.year.astype(str)\n",
    "\n",
    "df_tahiti[\"year-month\"] = df_tahiti[\"year\"] + \"-\" + df_tahiti[\"month\"]\n",
    "\n",
    "df_tahiti"
   ]
  },
  {
   "cell_type": "code",
   "execution_count": null,
   "id": "31809a9d-7bbf-482a-b538-b6143976063c",
   "metadata": {},
   "outputs": [],
   "source": [
    "results = {}\n",
    "\n",
    "darwin_values = df_darwin[\"standardised\"].values\n",
    "tahiti_values = df_tahiti[\"standardised\"].values\n",
    "\n",
    "darwin_raw = df_darwin[target_col].values\n",
    "tahiti_raw = df_tahiti[target_col].values\n",
    "\n",
    "both_std = df_important[target_col].std()\n",
    "\n",
    "for index, year_month in enumerate(df_tahiti[\"year-month\"].values):\n",
    "    results[year_month] = round(tahiti_values[index] - darwin_values[index], 1)\n",
    "    # results[year_month] = round((tahiti_raw[index] - darwin_raw[index]) / both_std, 1)"
   ]
  },
  {
   "cell_type": "code",
   "execution_count": null,
   "id": "6a040e8f-ab10-4b22-889e-54615b83f3ae",
   "metadata": {},
   "outputs": [],
   "source": [
    "results"
   ]
  },
  {
   "cell_type": "code",
   "execution_count": null,
   "id": "64efa061-7426-4b58-af0b-8d23011611ef",
   "metadata": {},
   "outputs": [],
   "source": []
  },
  {
   "cell_type": "markdown",
   "id": "d1306dbb-0ea5-4a95-8271-1290e704ffc4",
   "metadata": {
    "jp-MarkdownHeadingCollapsed": true,
    "tags": []
   },
   "source": [
    "# Try doing it for all years of a single model"
   ]
  },
  {
   "cell_type": "code",
   "execution_count": null,
   "id": "6b00d875-944b-43a4-ba09-d7cd01f83396",
   "metadata": {},
   "outputs": [],
   "source": [
    "target_col = \"item16222_monthly_mean\"\n",
    "\n",
    "dfs = []\n",
    "\n",
    "for file_path in tqdm(sorted(glob(\"/Users/tomm/projects/ALL-Global_MSLP/item16222_monthly_mean_v000_*.nc\"))):\n",
    "    ds_global = xr.load_dataset(file_path)\n",
    "\n",
    "    df_global = ds_global.to_dataframe()\n",
    "    df_global = df_global.reset_index()\n",
    "    \n",
    "    df_important = df_global.loc[\n",
    "        (\n",
    "            (df_global[\"longitude0\"]==210) & (df_global[\"latitude0\"]==-17.5)\n",
    "        ) | (\n",
    "            (df_global[\"longitude0\"]==131.25) & (df_global[\"latitude0\"]==-12.5)\n",
    "        )\n",
    "    ]\n",
    "\n",
    "    df_important.reset_index(drop=True, inplace=True)\n",
    "\n",
    "    df_important.loc[df_important[\"latitude0\"] == -17.5, \"location\"] = \"Tahiti\"\n",
    "    df_important.loc[df_important[\"latitude0\"] == -12.5, \"location\"] = \"Darwin\"\n",
    "    \n",
    "    df_important[\"time2\"] = df_important[\"time2\"].astype(str)\n",
    "    df_important['time2'] = pd.to_datetime(df_important['time2'], format='%Y-%m-%d %H:%M:%S')\n",
    "    df_important[\"month\"] = df_important[\"time2\"].dt.month.astype(str).str.rjust(2, \"0\")\n",
    "    df_important[\"year\"] = df_important[\"time2\"].dt.year.astype(str)\n",
    "\n",
    "    df_important[\"year_month\"] = df_important[\"year\"] + \"-\" + df_important[\"month\"]\n",
    "    \n",
    "    df = pd.DataFrame(\n",
    "        data={\n",
    "            \"year\": df_important.loc[df_important[\"location\"] == \"Tahiti\"][\"year\"].values,\n",
    "            \"month\": df_important[\"month\"].unique(),\n",
    "            \"year_month\": df_important[\"year_month\"].unique(),\n",
    "            \"mslp_tahiti\": df_important.loc[df_important[\"location\"] == \"Tahiti\"][target_col].reset_index(drop=True),\n",
    "            \"mslp_darwin\": df_important.loc[df_important[\"location\"] == \"Darwin\"][target_col].reset_index(drop=True)\n",
    "        },\n",
    "        index=np.arange(0, 12)\n",
    "    )\n",
    "    \n",
    "    tahiti_mean = df[\"mslp_tahiti\"].mean()\n",
    "    tahiti_std = df[\"mslp_tahiti\"].std()\n",
    "    \n",
    "    darwin_mean = df[\"mslp_darwin\"].mean()\n",
    "    darwin_std = df[\"mslp_darwin\"].std()\n",
    "    \n",
    "    df[\"standard_mslp_tahiti\"] = ((df[\"mslp_tahiti\"] - tahiti_mean) / tahiti_std).astype(float)\n",
    "    df[\"standard_mslp_darwin\"] = ((df[\"mslp_darwin\"] - darwin_mean) / darwin_std).astype(float)\n",
    "    \n",
    "    df[\"soi\"] = (df[\"standard_mslp_tahiti\"] - df[\"standard_mslp_darwin\"]).astype(float)\n",
    "    \n",
    "    df = df.round(1)\n",
    "    \n",
    "    dfs.append(df)\n",
    "\n",
    "df = pd.concat(dfs)"
   ]
  },
  {
   "cell_type": "code",
   "execution_count": null,
   "id": "85308ab7-9bfd-4b68-a720-b72a6c9f75a9",
   "metadata": {},
   "outputs": [],
   "source": [
    "df"
   ]
  },
  {
   "cell_type": "code",
   "execution_count": null,
   "id": "a86798d4-05e6-4a2a-bf51-d5585c811be9",
   "metadata": {},
   "outputs": [],
   "source": [
    "from os import makedirs\n",
    "\n",
    "\n",
    "parent_dir = \"../wah_soi/sim=ALL/model_tag=v000\"\n",
    "makedirs(parent_dir, exist_ok=True)\n",
    "\n",
    "df.to_parquet(f\"{parent_dir}/data.parquet\")"
   ]
  },
  {
   "cell_type": "code",
   "execution_count": null,
   "id": "eef5b0ea-21ea-4943-89f3-71da5e468e12",
   "metadata": {},
   "outputs": [],
   "source": []
  },
  {
   "cell_type": "markdown",
   "id": "903506a5-f39c-4b92-90ff-aa721a889566",
   "metadata": {
    "jp-MarkdownHeadingCollapsed": true,
    "tags": []
   },
   "source": [
    "# Try doing it for all models all years"
   ]
  },
  {
   "cell_type": "code",
   "execution_count": null,
   "id": "7969eb48-b338-4679-a356-c01d2c576051",
   "metadata": {
    "tags": []
   },
   "outputs": [],
   "source": [
    "def generate_parent_folder(model_file, method_name, sim_type, string_to_replace):\n",
    "    model_tag = re.findall(f\"mean_(.*?)_{string_to_replace[:4]}\", model_file)[0]\n",
    "    parent_dir = f\"../wah_soi/method={method_name}/sim={sim_type}/model_tag={model_tag}\"\n",
    "    makedirs(parent_dir, exist_ok=True)\n",
    "    model_file = model_file.replace(string_to_replace, \"*\")\n",
    "    files = sorted(glob(model_file))\n",
    "    return files, parent_dir\n",
    "\n",
    "\n",
    "def read_and_extract(file_path):\n",
    "    TARGET_COL = \"item16222_monthly_mean\"\n",
    "    \n",
    "    ds_global = xr.load_dataset(file_path)\n",
    "    df_global = ds_global.to_dataframe()\n",
    "    df_global = df_global.reset_index()\n",
    "\n",
    "    df_important = df_global.loc[\n",
    "        (\n",
    "            (df_global[\"longitude0\"]==210) & (df_global[\"latitude0\"]==-17.5)\n",
    "        ) | (\n",
    "            (df_global[\"longitude0\"]==131.25) & (df_global[\"latitude0\"]==-12.5)\n",
    "        )\n",
    "    ]\n",
    "\n",
    "    df_important.reset_index(drop=True, inplace=True)\n",
    "\n",
    "    df_important.loc[df_important[\"latitude0\"] == -17.5, \"location\"] = \"Tahiti\"\n",
    "    df_important.loc[df_important[\"latitude0\"] == -12.5, \"location\"] = \"Darwin\"\n",
    "\n",
    "    df_important[\"time2\"] = df_important[\"time2\"].astype(str)\n",
    "    df_important['time2'] = pd.to_datetime(df_important['time2'], format='%Y-%m-%d %H:%M:%S')\n",
    "    df_important[\"month\"] = df_important[\"time2\"].dt.month.astype(str).str.rjust(2, \"0\")\n",
    "    df_important[\"year\"] = df_important[\"time2\"].dt.year.astype(str)\n",
    "    df_important[\"year_month\"] = df_important[\"year\"] + \"-\" + df_important[\"month\"]\n",
    "\n",
    "    df = pd.DataFrame(\n",
    "        data={\n",
    "            \"year\": df_important.loc[df_important[\"location\"] == \"Tahiti\"][\"year\"].values,\n",
    "            \"month\": df_important[\"month\"].unique(),\n",
    "            \"year_month\": df_important[\"year_month\"].unique(),\n",
    "            \"mslp_tahiti\": df_important.loc[df_important[\"location\"] == \"Tahiti\"][TARGET_COL].reset_index(drop=True),\n",
    "            \"mslp_darwin\": df_important.loc[df_important[\"location\"] == \"Darwin\"][TARGET_COL].reset_index(drop=True)\n",
    "        }\n",
    "    )\n",
    "    return df\n",
    "\n",
    "\n",
    "def generate_soi_for_model_by_rolling(model_file, sim_type, string_to_replace, window_size):\n",
    "    files, parent_dir = generate_parent_folder(model_file, f\"roll_{str(window_size).rjust(2, '0')}\", sim_type, string_to_replace)\n",
    "    if path.exists(f\"{parent_dir}/data.parquet\"):\n",
    "        return files\n",
    "\n",
    "    df = pd.concat([read_and_extract(file_path) for file_path in files])\n",
    "\n",
    "    df[\"mslp_tahiti_mean\"] = df[\"mslp_tahiti\"].rolling(window_size).mean()\n",
    "    df[\"mslp_tahiti_std\"] = df[\"mslp_tahiti\"].rolling(window_size).std()\n",
    "\n",
    "    df[\"mslp_darwin_mean\"] = df[\"mslp_darwin\"].rolling(window_size).mean()\n",
    "    df[\"mslp_darwin_std\"] = df[\"mslp_darwin\"].rolling(window_size).std()\n",
    "\n",
    "    df[\"standardised_mslp_tahiti\"] = ((df[\"mslp_tahiti\"] - df[\"mslp_tahiti_mean\"]) / df[\"mslp_tahiti_std\"]).astype(float)\n",
    "    df[\"standardised_mslp_darwin\"] = ((df[\"mslp_darwin\"] - df[\"mslp_darwin_mean\"]) / df[\"mslp_darwin_std\"]).astype(float)\n",
    "\n",
    "    df[\"soi\"] = (df[\"standardised_mslp_tahiti\"] - df[\"standardised_mslp_darwin\"]).astype(float)\n",
    "\n",
    "    df = df.round(1)\n",
    "    df = df.reset_index(drop=True)\n",
    "\n",
    "    df.to_parquet(f\"{parent_dir}/data.parquet\")\n",
    "\n",
    "    return files\n",
    "\n",
    "\n",
    "def generate_soi_for_model_by_similar_months(model_file, sim_type, string_to_replace):\n",
    "    files, parent_dir = generate_parent_folder(model_file, \"month\", sim_type, string_to_replace)\n",
    "    if path.exists(f\"{parent_dir}/data.parquet\"):\n",
    "        return files\n",
    "\n",
    "    df = pd.concat([read_and_extract(file_path) for file_path in files])\n",
    "\n",
    "    mslp_tahiti_month_means = dict()\n",
    "    mslp_tahiti_month_stds = dict()\n",
    "    mslp_darwin_month_means = dict()\n",
    "    mslp_darwin_month_stds = dict()\n",
    "\n",
    "    for month in df[\"month\"].unique():\n",
    "        df_month = df.loc[df[\"month\"] == month]\n",
    "        mslp_tahiti_month_means[month] = df_month[\"mslp_tahiti\"].mean()\n",
    "        mslp_tahiti_month_stds[month] = df_month[\"mslp_tahiti\"].std()\n",
    "        mslp_darwin_month_means[month] = df_month[\"mslp_darwin\"].mean()\n",
    "        mslp_darwin_month_stds[month] = df_month[\"mslp_darwin\"].std()\n",
    "\n",
    "    df[\"mslp_tahiti_mean\"] = df[\"month\"].map(mslp_tahiti_month_means)\n",
    "    df[\"mslp_tahiti_std\"] = df[\"month\"].map(mslp_tahiti_month_stds)\n",
    "\n",
    "    df[\"mslp_darwin_mean\"] = df[\"month\"].map(mslp_darwin_month_means)\n",
    "    df[\"mslp_darwin_std\"] = df[\"month\"].map(mslp_darwin_month_stds)\n",
    "\n",
    "    df[\"standardised_mslp_tahiti\"] = ((df[\"mslp_tahiti\"] - df[\"mslp_tahiti_mean\"]) / df[\"mslp_tahiti_std\"]).astype(float)\n",
    "    df[\"standardised_mslp_darwin\"] = ((df[\"mslp_darwin\"] - df[\"mslp_darwin_mean\"]) / df[\"mslp_darwin_std\"]).astype(float)\n",
    "\n",
    "    df[\"soi\"] = (df[\"standardised_mslp_tahiti\"] - df[\"standardised_mslp_darwin\"]).astype(float)\n",
    "\n",
    "    df = df.round(1)\n",
    "    df = df.reset_index(drop=True)\n",
    "\n",
    "    df.to_parquet(f\"{parent_dir}/data.parquet\")\n",
    "\n",
    "    return files\n",
    "\n",
    "\n",
    "def generate_soi_for_model_by_reference(model_file, method_name, sim_type, string_to_replace, reference):\n",
    "    files, parent_dir = generate_parent_folder(model_file, method_name, sim_type, string_to_replace)\n",
    "    if path.exists(f\"{parent_dir}/data.parquet\"):\n",
    "        return files\n",
    "\n",
    "    df = pd.concat([read_and_extract(file_path) for file_path in files])\n",
    "\n",
    "    ref_tahiti_mean = reference[\"tahiti_mean\"]\n",
    "    ref_tahiti_std = reference[\"tahiti_std\"]\n",
    "    ref_darwin_mean = reference[\"darwin_mean\"]\n",
    "    ref_darwin_std = reference[\"darwin_std\"]\n",
    "\n",
    "    df[\"standardised_mslp_tahiti\"] = ((df[\"mslp_tahiti\"] - ref_tahiti_mean) / ref_tahiti_std).astype(float)\n",
    "    df[\"standardised_mslp_darwin\"] = ((df[\"mslp_darwin\"] - ref_darwin_mean) / ref_darwin_std).astype(float)\n",
    "\n",
    "    df[\"soi\"] = (df[\"standardised_mslp_tahiti\"] - df[\"standardised_mslp_darwin\"]).astype(float)\n",
    "\n",
    "    df = df.round(1)\n",
    "    df = df.reset_index(drop=True)\n",
    "\n",
    "    df.to_parquet(f\"{parent_dir}/data.parquet\")\n",
    "\n",
    "    return files"
   ]
  },
  {
   "cell_type": "code",
   "execution_count": null,
   "id": "3fa4cf4f-aaa9-474f-a950-afa38f7b7431",
   "metadata": {},
   "outputs": [],
   "source": []
  },
  {
   "cell_type": "markdown",
   "id": "9bf7efbe-3446-4c9b-b78a-f0b99d4b979d",
   "metadata": {},
   "source": [
    "## Generate Reference dataframes"
   ]
  },
  {
   "cell_type": "code",
   "execution_count": null,
   "id": "2f09d823-ce9e-4f33-95d3-42e7a669f3f8",
   "metadata": {
    "tags": []
   },
   "outputs": [],
   "source": [
    "df_real_world_reference = pd.read_csv(\"../Data/MSLP_CRU.csv\")\n",
    "df_real_world_reference = df_real_world_reference.loc[df_real_world_reference[\"year\"].between(1984, 2014)]\n",
    "\n",
    "# Weather at home uses slightly different units, adjust CRU accordingly\n",
    "df_real_world_reference[\"mslp_tahiti\"] *= 10\n",
    "df_real_world_reference[\"mslp_darwin\"] *= 10\n",
    "\n",
    "reference_real_world = {\n",
    "    \"tahiti_mean\": df_real_world_reference[\"mslp_tahiti\"].mean(),\n",
    "    \"tahiti_std\": df_real_world_reference[\"mslp_tahiti\"].std(),\n",
    "    \"darwin_mean\": df_real_world_reference[\"mslp_darwin\"].mean(),\n",
    "    \"darwin_std\": df_real_world_reference[\"mslp_darwin\"].std()\n",
    "}"
   ]
  },
  {
   "cell_type": "code",
   "execution_count": null,
   "id": "a104f52a-5afe-4406-aca5-0ee3f867f125",
   "metadata": {
    "tags": []
   },
   "outputs": [],
   "source": [
    "files_ALL = sorted(glob(f\"/Users/tomm/projects/ALL-Global_MSLP/item16222_monthly_mean_*_*.nc\"))\n",
    "\n",
    "dfs = []\n",
    "for file_path in tqdm(files_ALL):\n",
    "    dfs.append(read_and_extract(file_path))\n",
    "df_ALL_world_reference = pd.concat(dfs)\n",
    "\n",
    "reference_ALL_world = {\n",
    "    \"tahiti_mean\": df_ALL_world_reference[\"mslp_tahiti\"].mean(),\n",
    "    \"tahiti_std\": df_ALL_world_reference[\"mslp_tahiti\"].std(),\n",
    "    \"darwin_mean\": df_ALL_world_reference[\"mslp_darwin\"].mean(),\n",
    "    \"darwin_std\": df_ALL_world_reference[\"mslp_darwin\"].std()\n",
    "}"
   ]
  },
  {
   "cell_type": "code",
   "execution_count": null,
   "id": "56fde439-4738-480c-9114-5fe3dc8a65ea",
   "metadata": {
    "tags": []
   },
   "outputs": [],
   "source": [
    "files_NAT = sorted(glob(f\"/Users/tomm/projects/NAT-Global_MSLP/item16222_monthly_mean_*_*.nc\"))\n",
    "\n",
    "dfs = []\n",
    "for file_path in tqdm(files_NAT):\n",
    "    dfs.append(read_and_extract(file_path))\n",
    "df_NAT_world_reference = pd.concat(dfs)\n",
    "\n",
    "reference_NAT_world = {\n",
    "    \"tahiti_mean\": df_NAT_world_reference[\"mslp_tahiti\"].mean(),\n",
    "    \"tahiti_std\": df_NAT_world_reference[\"mslp_tahiti\"].std(),\n",
    "    \"darwin_mean\": df_NAT_world_reference[\"mslp_darwin\"].mean(),\n",
    "    \"darwin_std\": df_NAT_world_reference[\"mslp_darwin\"].std()\n",
    "}"
   ]
  },
  {
   "cell_type": "code",
   "execution_count": null,
   "id": "6fd30d15-f0a7-4159-83c3-6c84908fb784",
   "metadata": {
    "tags": []
   },
   "outputs": [],
   "source": [
    "# Clear from mem\n",
    "dfs = None\n",
    "df_real_world_reference = None\n",
    "df_ALL_world_reference = None\n",
    "df_NAT_world_reference = None"
   ]
  },
  {
   "cell_type": "code",
   "execution_count": null,
   "id": "f79bf941-32be-4909-9982-54b75bb1004b",
   "metadata": {},
   "outputs": [],
   "source": []
  },
  {
   "cell_type": "markdown",
   "id": "887bac17-8342-4ea8-ad46-b76e2ad83656",
   "metadata": {
    "tags": []
   },
   "source": [
    "## Generate for everything - ALL"
   ]
  },
  {
   "cell_type": "code",
   "execution_count": null,
   "id": "88944131-a2b2-4ecd-9cd6-75e4e638d338",
   "metadata": {},
   "outputs": [],
   "source": []
  },
  {
   "cell_type": "code",
   "execution_count": null,
   "id": "6656e1d8-a206-4b0c-a031-d3016b59c3e3",
   "metadata": {
    "tags": []
   },
   "outputs": [],
   "source": [
    "files = []\n",
    "\n",
    "string_to_replace = \"1988-12_1989-11\"\n",
    "\n",
    "sim_type = \"ALL\"\n",
    "\n",
    "for model_file in tqdm(sorted(glob(f\"/Users/tomm/projects/{sim_type}-Global_MSLP/item16222_monthly_mean_*_{string_to_replace}.nc\")), leave=1, desc=\"Model Loop\"):\n",
    "    files = files + generate_soi_for_model_by_rolling(model_file, sim_type, string_to_replace, 12)\n",
    "    files = files + generate_soi_for_model_by_rolling(model_file, sim_type, string_to_replace, 6)\n",
    "    files = files + generate_soi_for_model_by_rolling(model_file, sim_type, string_to_replace, 4)\n",
    "    files = files + generate_soi_for_model_by_similar_months(model_file, sim_type, string_to_replace)\n",
    "    files = files + generate_soi_for_model_by_reference(model_file, \"ref_model_world\", sim_type, string_to_replace, reference_ALL_world)\n",
    "    files = files + generate_soi_for_model_by_reference(model_file, \"ref_real_world\", sim_type, string_to_replace, reference_real_world)\n",
    "    \n",
    "print(f\"Found {len(set(files)):,} files\")\n",
    "\n",
    "real_files = sorted(glob(f\"/Users/tomm/projects/{sim_type}-Global_MSLP/item*.nc\"))\n",
    "print(f\"Found {len(real_files):,} files\")"
   ]
  },
  {
   "cell_type": "code",
   "execution_count": null,
   "id": "35646a5c-23a2-454a-acf1-c844020e6990",
   "metadata": {
    "tags": []
   },
   "outputs": [],
   "source": [
    "missing = sorted(list(set(real_files) - set(files)))\n",
    "\n",
    "missing_dict = {}\n",
    "for item in missing:\n",
    "    key = item[60:64]\n",
    "    if key not in missing_dict:\n",
    "        missing_dict[key] = item\n",
    "\n",
    "missing_dict"
   ]
  },
  {
   "cell_type": "code",
   "execution_count": null,
   "id": "b294a93d-5b81-4f93-ba93-997fb7104c7f",
   "metadata": {
    "tags": []
   },
   "outputs": [],
   "source": [
    "## It always manages to miss some so just run those manually\n",
    "\n",
    "for file in tqdm(missing_dict.values()):\n",
    "    string_to_replace = file[65:80]\n",
    "    generate_soi_for_model_by_rolling(file, sim_type, string_to_replace, 12)\n",
    "    generate_soi_for_model_by_rolling(file, sim_type, string_to_replace, 6)\n",
    "    generate_soi_for_model_by_rolling(file, sim_type, string_to_replace, 4)\n",
    "    generate_soi_for_model_by_similar_months(file, sim_type, string_to_replace)\n",
    "    generate_soi_for_model_by_reference(file, \"ref_model_world\", sim_type, string_to_replace, reference_ALL_world)\n",
    "    generate_soi_for_model_by_reference(file, \"ref_real_world\", sim_type, string_to_replace, reference_real_world)"
   ]
  },
  {
   "cell_type": "code",
   "execution_count": null,
   "id": "064b86d6-c1fb-4693-b68f-76ee8ae48c4f",
   "metadata": {},
   "outputs": [],
   "source": []
  },
  {
   "cell_type": "markdown",
   "id": "3e51ed1c-35a5-44f9-8c94-7e091b7bb480",
   "metadata": {},
   "source": [
    "## Generate for everything - NAT"
   ]
  },
  {
   "cell_type": "code",
   "execution_count": null,
   "id": "6ce54c35-b9a8-445c-8dbf-9a18313836da",
   "metadata": {
    "tags": []
   },
   "outputs": [],
   "source": [
    "files = []\n",
    "\n",
    "string_to_replace = \"1988-12_1989-11\"\n",
    "\n",
    "sim_type = \"NAT\"\n",
    "\n",
    "for model_file in tqdm(sorted(glob(f\"/Users/tomm/projects/{sim_type}-Global_MSLP/item16222_monthly_mean_*_{string_to_replace}.nc\")), leave=1, desc=\"Model Loop\"):\n",
    "    files = files + generate_soi_for_model_by_rolling(model_file, sim_type, string_to_replace, 12)\n",
    "    files = files + generate_soi_for_model_by_rolling(model_file, sim_type, string_to_replace, 6)\n",
    "    files = files + generate_soi_for_model_by_rolling(model_file, sim_type, string_to_replace, 4)\n",
    "    files = files + generate_soi_for_model_by_similar_months(model_file, sim_type, string_to_replace)\n",
    "    files = files + generate_soi_for_model_by_reference(model_file, \"ref_model_world\", sim_type, string_to_replace, reference_NAT_world)\n",
    "    files = files + generate_soi_for_model_by_reference(model_file, \"ref_real_world\", sim_type, string_to_replace, reference_real_world)\n",
    "    \n",
    "print(f\"Found {len(set(files)):,} files\")\n",
    "\n",
    "real_files = sorted(glob(f\"/Users/tomm/projects/{sim_type}-Global_MSLP/item*.nc\"))\n",
    "print(f\"Found {len(real_files):,} files\")"
   ]
  },
  {
   "cell_type": "code",
   "execution_count": null,
   "id": "4c622ca2-8c4e-48c2-bfaa-81d3109869d6",
   "metadata": {
    "tags": []
   },
   "outputs": [],
   "source": [
    "missing = sorted(list(set(real_files) - set(files)))\n",
    "\n",
    "missing_dict = {}\n",
    "for item in missing:\n",
    "    key = item[60:64]\n",
    "    if key not in missing_dict:\n",
    "        missing_dict[key] = item\n",
    "\n",
    "missing_dict"
   ]
  },
  {
   "cell_type": "code",
   "execution_count": null,
   "id": "9692348f-9148-42c6-b555-03ea45314614",
   "metadata": {
    "tags": []
   },
   "outputs": [],
   "source": [
    "for file in tqdm(missing_dict.values()):\n",
    "    string_to_replace = file[65:80]\n",
    "    generate_soi_for_model_by_rolling(file, sim_type, string_to_replace, 12)\n",
    "    generate_soi_for_model_by_rolling(file, sim_type, string_to_replace, 6)\n",
    "    generate_soi_for_model_by_rolling(file, sim_type, string_to_replace, 4)\n",
    "    generate_soi_for_model_by_similar_months(file, sim_type, string_to_replace)\n",
    "    generate_soi_for_model_by_reference(file, \"ref_model_world\", sim_type, string_to_replace, reference_NAT_world)\n",
    "    generate_soi_for_model_by_reference(file, \"ref_real_world\", sim_type, string_to_replace, reference_real_world)"
   ]
  },
  {
   "cell_type": "code",
   "execution_count": null,
   "id": "e69cb37c-5e25-489f-9a17-523d55fde555",
   "metadata": {},
   "outputs": [],
   "source": []
  },
  {
   "cell_type": "code",
   "execution_count": null,
   "id": "8a04cbd5-f203-43a6-898d-3d4b4f15262c",
   "metadata": {},
   "outputs": [],
   "source": []
  },
  {
   "cell_type": "code",
   "execution_count": null,
   "id": "efcad47f-8720-4b75-b854-dfd8da385e58",
   "metadata": {},
   "outputs": [],
   "source": []
  },
  {
   "cell_type": "markdown",
   "id": "79e862f3-9acb-4de7-a594-6b42a551c711",
   "metadata": {
    "jp-MarkdownHeadingCollapsed": true,
    "tags": []
   },
   "source": [
    "# Compare the different methods to each other"
   ]
  },
  {
   "cell_type": "code",
   "execution_count": null,
   "id": "3ddf6a2c-789c-49ce-9b9c-279beaab65b7",
   "metadata": {
    "tags": []
   },
   "outputs": [],
   "source": [
    "def group_by_year_month(df):\n",
    "    group_cols = [\n",
    "        \"year_month\",\n",
    "        \"sim\"\n",
    "    ]\n",
    "\n",
    "    df_grouped = df[group_cols + [\"soi\"]].groupby(group_cols).mean()\n",
    "    df_grouped = df_grouped.reset_index()\n",
    "    df_grouped[\"soi\"] = df_grouped[\"soi\"].astype(float).round(1)\n",
    "    \n",
    "    return df_grouped"
   ]
  },
  {
   "cell_type": "code",
   "execution_count": null,
   "id": "a5c40c81-129e-4b3f-8d4c-73cc64a33e29",
   "metadata": {},
   "outputs": [],
   "source": []
  },
  {
   "cell_type": "code",
   "execution_count": null,
   "id": "daf1690a-327a-46c6-ba4b-2d3743849595",
   "metadata": {
    "tags": []
   },
   "outputs": [],
   "source": [
    "df_roll_12 = pd.read_parquet(\"../wah_soi/method=roll_12/\")\n",
    "df_roll_06 = pd.read_parquet(\"../wah_soi/method=roll_06/\")\n",
    "df_roll_04 = pd.read_parquet(\"../wah_soi/method=roll_04/\")\n",
    "df_month = pd.read_parquet(\"../wah_soi/method=month/\")\n",
    "df_ref_model = pd.read_parquet(\"../wah_soi/method=ref_model_world/\")\n",
    "df_ref_real = pd.read_parquet(\"../wah_soi/method=ref_real_world/\")\n",
    "df_ref_real[\"soi\"] += 4.89\n",
    "\n",
    "df_grouped_roll_12 = group_by_year_month(df_roll_12)\n",
    "df_grouped_roll_06 = group_by_year_month(df_roll_06)\n",
    "df_grouped_roll_04 = group_by_year_month(df_roll_04)\n",
    "df_grouped_month = group_by_year_month(df_month)\n",
    "df_grouped_model = group_by_year_month(df_ref_model)\n",
    "df_grouped_real = group_by_year_month(df_ref_real)"
   ]
  },
  {
   "cell_type": "code",
   "execution_count": null,
   "id": "7509c1b2-07a3-4932-9ac9-d8f358cab34e",
   "metadata": {},
   "outputs": [],
   "source": []
  },
  {
   "cell_type": "code",
   "execution_count": null,
   "id": "6776695b-6d74-4ece-bfc4-c4a9fe0c58c4",
   "metadata": {},
   "outputs": [],
   "source": []
  },
  {
   "cell_type": "code",
   "execution_count": null,
   "id": "7c138f36-1946-4680-ae84-6394b50c33c0",
   "metadata": {
    "tags": []
   },
   "outputs": [],
   "source": [
    "px.bar(df_grouped_month.dropna(subset=['soi']), x='year_month', y='soi', color='sim', barmode=\"overlay\")"
   ]
  },
  {
   "cell_type": "code",
   "execution_count": null,
   "id": "868d109a-7848-41a4-80f5-c1a04b2955d0",
   "metadata": {
    "tags": []
   },
   "outputs": [],
   "source": [
    "px.bar(df_grouped_roll_12.dropna(subset=['soi']), x='year_month', y='soi', color='sim', barmode=\"overlay\")"
   ]
  },
  {
   "cell_type": "code",
   "execution_count": null,
   "id": "a3f611c0-b5af-427f-9101-bcca59801dfb",
   "metadata": {
    "tags": []
   },
   "outputs": [],
   "source": [
    "px.bar(df_grouped_roll_06.dropna(subset=['soi']), x='year_month', y='soi', color='sim', barmode=\"overlay\")"
   ]
  },
  {
   "cell_type": "code",
   "execution_count": null,
   "id": "fdd7285c-40e4-4520-8d11-37f9ea4d52a5",
   "metadata": {
    "tags": []
   },
   "outputs": [],
   "source": [
    "px.bar(df_grouped_roll_04.dropna(subset=['soi']), x='year_month', y='soi', color='sim', barmode=\"overlay\")"
   ]
  },
  {
   "cell_type": "code",
   "execution_count": null,
   "id": "3b5e1300-3d8e-4e2d-a5ca-f32641a17ac4",
   "metadata": {
    "tags": []
   },
   "outputs": [],
   "source": [
    "px.bar(df_grouped_model.dropna(subset=['soi']), x='year_month', y='soi', color='sim', barmode=\"overlay\")"
   ]
  },
  {
   "cell_type": "code",
   "execution_count": null,
   "id": "3d6804bf-0683-4aa7-b16a-519fd6f8b796",
   "metadata": {
    "tags": []
   },
   "outputs": [],
   "source": [
    "px.bar(df_grouped_real.dropna(subset=['soi']), x='year_month', y='soi', color='sim', barmode=\"overlay\")"
   ]
  },
  {
   "cell_type": "code",
   "execution_count": null,
   "id": "12693e2a-7282-4959-9c27-4d6ba6043ebc",
   "metadata": {},
   "outputs": [],
   "source": []
  },
  {
   "cell_type": "code",
   "execution_count": null,
   "id": "ebc57f8c-709f-4ed2-88f6-0b1983604040",
   "metadata": {},
   "outputs": [],
   "source": []
  },
  {
   "cell_type": "markdown",
   "id": "2972de2a-7503-4936-b79d-a1faaa0b8d71",
   "metadata": {
    "tags": []
   },
   "source": [
    "### Is the world becoming \"more Nino\" as time goes on?"
   ]
  },
  {
   "cell_type": "code",
   "execution_count": null,
   "id": "038c3a3f-22a8-4a51-b85a-50f9a6e3f84d",
   "metadata": {
    "tags": []
   },
   "outputs": [],
   "source": [
    "window_size = 12\n",
    "\n",
    "values_ALL = df_grouped_model.loc[df_grouped_model[\"sim\"] == \"ALL\"][\"soi\"].rolling(window_size).mean().round(1)\n",
    "values_NAT = df_grouped_model.loc[df_grouped_model[\"sim\"] == \"NAT\"][\"soi\"].rolling(window_size).mean().round(1)\n",
    "\n",
    "fig = go.Figure()\n",
    "\n",
    "x_vals = list(df_grouped_model[\"year_month\"].unique())[window_size:]\n",
    "\n",
    "fig.add_trace(\n",
    "    go.Scatter(\n",
    "        x=x_vals,\n",
    "        y=values_ALL,\n",
    "        name=\"ALL\",\n",
    "        # mode=\"markers\"\n",
    "    )\n",
    ")\n",
    "\n",
    "fig.add_trace(\n",
    "    go.Scatter(\n",
    "        x=x_vals,\n",
    "        y=values_NAT,\n",
    "        name=\"NAT\",\n",
    "        # mode=\"markers\"\n",
    "    )\n",
    ")\n",
    "\n",
    "fig.update_layout(\n",
    "    hovermode=\"x\",\n",
    "    height=500\n",
    ")"
   ]
  },
  {
   "cell_type": "code",
   "execution_count": null,
   "id": "1b620e0b-fd3d-48ab-946f-7fa35870fec2",
   "metadata": {},
   "outputs": [],
   "source": []
  },
  {
   "cell_type": "code",
   "execution_count": null,
   "id": "a5e2af1d-6622-4032-add5-bafe4824fda7",
   "metadata": {},
   "outputs": [],
   "source": []
  },
  {
   "cell_type": "code",
   "execution_count": null,
   "id": "4ed47453-2fb4-436e-b2fe-78cea440e275",
   "metadata": {},
   "outputs": [],
   "source": []
  },
  {
   "cell_type": "code",
   "execution_count": null,
   "id": "f627070e-27e8-4481-8a6d-7613dee6f8dc",
   "metadata": {},
   "outputs": [],
   "source": []
  },
  {
   "cell_type": "code",
   "execution_count": null,
   "id": "7b23a50d-63b1-4f1c-bf68-bdb0dfa4bc8c",
   "metadata": {},
   "outputs": [],
   "source": []
  },
  {
   "cell_type": "markdown",
   "id": "e4927e2d-4729-4ebe-943d-d9fbe8850da5",
   "metadata": {
    "tags": []
   },
   "source": [
    "# Sanity check your calculations on CRU observed MSLP data"
   ]
  },
  {
   "cell_type": "markdown",
   "id": "d8f557f1-b369-46bd-80ee-b31d5f3a32dc",
   "metadata": {
    "jp-MarkdownHeadingCollapsed": true,
    "tags": []
   },
   "source": [
    "## build a nicer csv from their data"
   ]
  },
  {
   "cell_type": "code",
   "execution_count": null,
   "id": "abb7c4cf-b72c-42f2-89c7-24d52c18c02d",
   "metadata": {
    "tags": []
   },
   "outputs": [],
   "source": [
    "## CRU\n",
    "\n",
    "df_tahiti = pd.read_csv(\"../Data/raw_CRU_MSLP_tahiti.csv\", delimiter=\" \")\n",
    "df_darwin = pd.read_csv(\"../Data/raw_CRU_MSLP_darwin.csv\", delimiter=\" \")\n",
    "\n",
    "df = pd.DataFrame(data={\n",
    "    \"year\": [year for _ in range(12) for year in df_tahiti[\"year\"].unique()],\n",
    "    \"month\": [str(month).rjust(2, '0') for month in range(1, 13) for year in df_tahiti[\"year\"].unique()],\n",
    "    \"mslp_tahiti\": list(df_tahiti[\"01\"].values) + \n",
    "        list(df_tahiti[\"02\"].values) +\n",
    "        list(df_tahiti[\"03\"].values) +\n",
    "        list(df_tahiti[\"04\"].values) +\n",
    "        list(df_tahiti[\"05\"].values) +\n",
    "        list(df_tahiti[\"06\"].values) +\n",
    "        list(df_tahiti[\"07\"].values) +\n",
    "        list(df_tahiti[\"08\"].values) +\n",
    "        list(df_tahiti[\"09\"].values) +\n",
    "        list(df_tahiti[\"10\"].values) +\n",
    "        list(df_tahiti[\"11\"].values) +\n",
    "        list(df_tahiti[\"12\"].values),\n",
    "    \"mslp_darwin\": list(df_darwin[\"01\"].values) + \n",
    "        list(df_darwin[\"02\"].values) +\n",
    "        list(df_darwin[\"03\"].values) +\n",
    "        list(df_darwin[\"04\"].values) +\n",
    "        list(df_darwin[\"05\"].values) +\n",
    "        list(df_darwin[\"06\"].values) +\n",
    "        list(df_darwin[\"07\"].values) +\n",
    "        list(df_darwin[\"08\"].values) +\n",
    "        list(df_darwin[\"09\"].values) +\n",
    "        list(df_darwin[\"10\"].values) +\n",
    "        list(df_darwin[\"11\"].values) +\n",
    "        list(df_darwin[\"12\"].values)\n",
    "})\n",
    "\n",
    "df[\"year_month\"] = df[\"year\"].astype(str) + \"_\" + df[\"month\"].astype(str)\n",
    "df = df.sort_values(\"year_month\").reset_index(drop=True)\n",
    "df = df.drop(columns=[\"year_month\"])\n",
    "df.to_csv(\"../Data/MSLP_CRU.csv\", index=False)\n",
    "\n",
    "\n",
    "df_soi = pd.read_csv(\"../Data/raw_CRU_SOI.csv\", delimiter=\" \")\n",
    "\n",
    "df = pd.DataFrame(data={\n",
    "    \"year\": [year for _ in range(12) for year in df_soi[\"year\"].unique()],\n",
    "    \"month\": [str(month).rjust(2, '0') for month in range(1, 13) for year in df_soi[\"year\"].unique()],\n",
    "    \"soi\": list(df_soi[\"01\"].values) + \n",
    "        list(df_soi[\"02\"].values) +\n",
    "        list(df_soi[\"03\"].values) +\n",
    "        list(df_soi[\"04\"].values) +\n",
    "        list(df_soi[\"05\"].values) +\n",
    "        list(df_soi[\"06\"].values) +\n",
    "        list(df_soi[\"07\"].values) +\n",
    "        list(df_soi[\"08\"].values) +\n",
    "        list(df_soi[\"09\"].values) +\n",
    "        list(df_soi[\"10\"].values) +\n",
    "        list(df_soi[\"11\"].values) +\n",
    "        list(df_soi[\"12\"].values)\n",
    "})\n",
    "\n",
    "df[\"year_month\"] = df[\"year\"].astype(str) + \"_\" + df[\"month\"].astype(str)\n",
    "df = df.sort_values(\"year_month\").reset_index(drop=True)\n",
    "df = df.drop(columns=[\"year_month\"])\n",
    "df.to_csv(\"../Data/SOI_CRU.csv\", index=False)"
   ]
  },
  {
   "cell_type": "code",
   "execution_count": null,
   "id": "d5b61872-de8f-4a59-bfa0-a51b65ad412a",
   "metadata": {
    "tags": []
   },
   "outputs": [],
   "source": [
    "## NOAA\n",
    "\n",
    "df_anomaly = pd.read_csv(\"../Data/raw_NOAA_MSLP_anomaly.csv\", delimiter=\" \")\n",
    "df_standardised = pd.read_csv(\"../Data/raw_NOAA_MSLP_standardised.csv\", delimiter=\" \")\n",
    "\n",
    "df = pd.DataFrame(data={\n",
    "    \"year\": [year for _ in range(12) for year in df_anomaly[\"year\"].unique()],\n",
    "    \"month\": [str(month).rjust(2, '0') for month in range(1, 13) for year in df_anomaly[\"year\"].unique()],\n",
    "    \"mslp_anomaly\": list(df_anomaly[\"01\"].values) + \n",
    "        list(df_anomaly[\"02\"].values) +\n",
    "        list(df_anomaly[\"03\"].values) +\n",
    "        list(df_anomaly[\"04\"].values) +\n",
    "        list(df_anomaly[\"05\"].values) +\n",
    "        list(df_anomaly[\"06\"].values) +\n",
    "        list(df_anomaly[\"07\"].values) +\n",
    "        list(df_anomaly[\"08\"].values) +\n",
    "        list(df_anomaly[\"09\"].values) +\n",
    "        list(df_anomaly[\"10\"].values) +\n",
    "        list(df_anomaly[\"11\"].values) +\n",
    "        list(df_anomaly[\"12\"].values),\n",
    "    \"mslp_standardised\": list(df_standardised[\"01\"].values) + \n",
    "        list(df_standardised[\"02\"].values) +\n",
    "        list(df_standardised[\"03\"].values) +\n",
    "        list(df_standardised[\"04\"].values) +\n",
    "        list(df_standardised[\"05\"].values) +\n",
    "        list(df_standardised[\"06\"].values) +\n",
    "        list(df_standardised[\"07\"].values) +\n",
    "        list(df_standardised[\"08\"].values) +\n",
    "        list(df_standardised[\"09\"].values) +\n",
    "        list(df_standardised[\"10\"].values) +\n",
    "        list(df_standardised[\"11\"].values) +\n",
    "        list(df_standardised[\"12\"].values)\n",
    "})\n",
    "\n",
    "# df[\"soi\"] = (df[\"mslp_anomaly\"] - df[\"mslp_standardised\"]).astype(float).round(1)\n",
    "df[\"soi\"] = df[\"mslp_standardised\"].astype(float).round(1)\n",
    "\n",
    "df[\"year_month\"] = df[\"year\"].astype(str) + \"_\" + df[\"month\"].astype(str)\n",
    "df = df.sort_values(\"year_month\").reset_index(drop=True)\n",
    "df = df.drop(columns=[\"year_month\"])\n",
    "\n",
    "df.to_csv(\"../Data/SOI_NOAA.csv\", index=False)"
   ]
  },
  {
   "cell_type": "code",
   "execution_count": null,
   "id": "601c9e34-79e7-489c-8e1e-b1a57e6b1d75",
   "metadata": {},
   "outputs": [],
   "source": []
  },
  {
   "cell_type": "code",
   "execution_count": null,
   "id": "a00c9062-6545-4d1d-b6e6-32d64a230ae3",
   "metadata": {},
   "outputs": [],
   "source": []
  },
  {
   "cell_type": "markdown",
   "id": "d624c312-1c28-4a4b-a2a3-10876edbc41f",
   "metadata": {
    "jp-MarkdownHeadingCollapsed": true,
    "tags": []
   },
   "source": [
    "## Compute"
   ]
  },
  {
   "cell_type": "code",
   "execution_count": null,
   "id": "cc7d8b84-ebe2-46ca-b972-1709fc992c6c",
   "metadata": {
    "tags": []
   },
   "outputs": [],
   "source": [
    "def generate_soi_by_similar_month(df, df_reference):\n",
    "    mslp_tahiti_month_means = dict()\n",
    "    mslp_tahiti_month_stds = dict()\n",
    "    mslp_darwin_month_means = dict()\n",
    "    mslp_darwin_month_stds = dict()\n",
    "    \n",
    "    for month in df[\"month\"].unique():\n",
    "        df_month = df_reference.loc[df_reference[\"month\"] == month]\n",
    "        mslp_tahiti_month_means[month] = df_month[\"mslp_tahiti\"].mean()\n",
    "        mslp_tahiti_month_stds[month] = df_month[\"mslp_tahiti\"].std()\n",
    "        mslp_darwin_month_means[month] = df_month[\"mslp_darwin\"].mean()\n",
    "        mslp_darwin_month_stds[month] = df_month[\"mslp_darwin\"].std()\n",
    "\n",
    "    df[\"mslp_tahiti_mean\"] = df[\"month\"].map(mslp_tahiti_month_means)\n",
    "    df[\"mslp_tahiti_std\"] = df[\"month\"].map(mslp_tahiti_month_stds)\n",
    "\n",
    "    df[\"mslp_darwin_mean\"] = df[\"month\"].map(mslp_darwin_month_means)\n",
    "    df[\"mslp_darwin_std\"] = df[\"month\"].map(mslp_darwin_month_stds)\n",
    "\n",
    "    df[\"standardised_mslp_tahiti\"] = ((df[\"mslp_tahiti\"] - df[\"mslp_tahiti_mean\"]) / df[\"mslp_tahiti_std\"]).astype(float)\n",
    "    df[\"standardised_mslp_darwin\"] = ((df[\"mslp_darwin\"] - df[\"mslp_darwin_mean\"]) / df[\"mslp_darwin_std\"]).astype(float)\n",
    "\n",
    "    return (df[\"standardised_mslp_tahiti\"] - df[\"standardised_mslp_darwin\"]).astype(float).round(1)\n",
    "\n",
    "\n",
    "def generate_soi_by_everything(df, df_reference):\n",
    "    mslp_tahiti_mean = df_reference[\"mslp_tahiti\"].mean()\n",
    "    mslp_tahiti_std = df_reference[\"mslp_tahiti\"].std()\n",
    "\n",
    "    mslp_darwin_mean = df_reference[\"mslp_darwin\"].mean()\n",
    "    mslp_darwin_std = df_reference[\"mslp_darwin\"].std()\n",
    "\n",
    "    df[\"standardised_mslp_tahiti\"] = ((df[\"mslp_tahiti\"] - mslp_tahiti_mean) / mslp_tahiti_std).astype(float)\n",
    "    df[\"standardised_mslp_darwin\"] = ((df[\"mslp_darwin\"] - mslp_darwin_mean) / mslp_darwin_std).astype(float)\n",
    "\n",
    "    return (df[\"standardised_mslp_tahiti\"] - df[\"standardised_mslp_darwin\"]).astype(float).round(1)\n",
    "\n",
    "\n",
    "def generate_soi_by_rolling(df, df_reference, window_size):\n",
    "    df[\"mslp_tahiti_mean\"] = df[\"mslp_tahiti\"].rolling(window_size).mean()\n",
    "    df[\"mslp_tahiti_std\"] = df[\"mslp_tahiti\"].rolling(window_size).std()\n",
    "\n",
    "    df[\"mslp_darwin_mean\"] = df[\"mslp_darwin\"].rolling(window_size).mean()\n",
    "    df[\"mslp_darwin_std\"] = df[\"mslp_darwin\"].rolling(window_size).std()\n",
    "\n",
    "    df[\"standardised_mslp_tahiti\"] = ((df[\"mslp_tahiti\"] - df[\"mslp_tahiti_mean\"]) / df[\"mslp_tahiti_std\"]).astype(float)\n",
    "    df[\"standardised_mslp_darwin\"] = ((df[\"mslp_darwin\"] - df[\"mslp_darwin_mean\"]) / df[\"mslp_darwin_std\"]).astype(float)\n",
    "\n",
    "    return (df[\"standardised_mslp_tahiti\"] - df[\"standardised_mslp_darwin\"]).astype(float).round(1)\n",
    "\n",
    "\n",
    "\n",
    "def generate_soi_by_difference(df, df_reference):\n",
    "    df[\"difference\"] = df[\"mslp_tahiti\"] - df[\"mslp_darwin\"]\n",
    "    \n",
    "    reference_mean = df_reference[\"difference\"].mean()\n",
    "    reference_std = df_reference[\"difference\"].std()\n",
    "    \n",
    "    return ((df[\"difference\"] - reference_mean) / reference_std).astype(float).round(1)"
   ]
  },
  {
   "cell_type": "code",
   "execution_count": null,
   "id": "a8eb920b-3b46-490b-ab14-3a687504a829",
   "metadata": {},
   "outputs": [],
   "source": []
  },
  {
   "cell_type": "code",
   "execution_count": null,
   "id": "651412a0-21b6-4535-a08c-e2afa5f9ca25",
   "metadata": {
    "tags": []
   },
   "outputs": [],
   "source": [
    "df_SOI_CRU = pd.read_csv(\"../Data/SOI_CRU.csv\")\n",
    "df_SOI_NOAA = pd.read_csv(\"../Data/SOI_NOAA.csv\")\n",
    "df_MSLP = pd.read_csv(\"../Data/MSLP_CRU.csv\")\n",
    "\n",
    "df = pd.DataFrame(\n",
    "    data={\n",
    "        \"year\": df_SOI_CRU[\"year\"],\n",
    "        \"month\": df_SOI_CRU[\"month\"],\n",
    "        \"mslp_tahiti\": df_MSLP[\"mslp_tahiti\"],\n",
    "        \"mslp_darwin\": df_MSLP[\"mslp_darwin\"],\n",
    "        \"soi_CRU\": df_SOI_CRU[\"soi\"]\n",
    "    }\n",
    ")\n",
    "\n",
    "df_reference = df.loc[df[\"year\"].isin([year for year in range(1980,2010)])].copy()\n",
    "df_reference[\"difference\"] = df_reference[\"mslp_tahiti\"] - df_reference[\"mslp_darwin\"]\n",
    "\n",
    "df = df.loc[(df[\"year\"] >= 1966) & (df[\"year\"] <= 2019)].reset_index(drop=True)\n",
    "df[\"year\"] = df[\"year\"].astype(str)\n",
    "df[\"month\"] = df[\"month\"].astype(str).str.rjust(2, '0')\n",
    "df[\"soi_CRU\"] = df[\"soi_CRU\"].astype(float).round(1)\n",
    "df[\"soi_NOAA\"] = df_SOI_NOAA[\"soi\"].astype(float).round(1)\n",
    "\n",
    "\n",
    "# df[\"soi_reference\"] = generate_soi_by_reference(df.copy(), df_reference.copy())\n",
    "# df[\"soi_month\"] = generate_soi_by_similar_month(df.copy(), df_reference.copy())\n",
    "df[\"soi_roll_012\"] = generate_soi_by_rolling(df.copy(), df_reference.copy(), 12)\n",
    "df[\"soi_roll_024\"] = generate_soi_by_rolling(df.copy(), df_reference.copy(), 24)\n",
    "df[\"soi_roll_048\"] = generate_soi_by_rolling(df.copy(), df_reference.copy(), 48)\n",
    "df[\"soi_roll_120\"] = generate_soi_by_rolling(df.copy(), df_reference.copy(), 120)\n",
    "df[\"soi_difference\"] = generate_soi_by_difference(df.copy(), df_reference.copy())\n",
    "\n",
    "df"
   ]
  },
  {
   "cell_type": "code",
   "execution_count": null,
   "id": "5699342f-3218-4ba3-a3c5-f0f1960bf966",
   "metadata": {
    "tags": []
   },
   "outputs": [],
   "source": [
    "from sklearn.metrics import mean_squared_error \n",
    "\n",
    "df = df.dropna(axis=0)\n",
    "\n",
    "print(f'rmse_sanity     {mean_squared_error(df[\"soi_CRU\"], df[\"soi_CRU\"]):.2f}')\n",
    "print(f'rmse_cru_noaa   {mean_squared_error(df[\"soi_CRU\"], df[\"soi_NOAA\"]):.2f}')\n",
    "\n",
    "# print(f'rmse_reference {mean_squared_error(df[\"soi_reference\"], df[\"soi_CRU\"]):.2f}')\n",
    "# print(f'rmse_reference {mean_squared_error(df[\"soi_reference\"], df[\"soi_NOAA\"]):.2f}')\n",
    "\n",
    "# print(f'rmse_month      {mean_squared_error(df[\"soi_month\"], df[\"soi_CRU\"]):.2f}')\n",
    "\n",
    "print(f'rmse_roll_012   {mean_squared_error(df[\"soi_roll_012\"], df[\"soi_CRU\"]):.2f}')\n",
    "print(f'rmse_roll_024   {mean_squared_error(df[\"soi_roll_024\"], df[\"soi_CRU\"]):.2f}')\n",
    "print(f'rmse_roll_048   {mean_squared_error(df[\"soi_roll_048\"], df[\"soi_CRU\"]):.2f}')\n",
    "print(f'rmse_roll_120   {mean_squared_error(df[\"soi_roll_120\"], df[\"soi_CRU\"]):.2f}')\n",
    "\n",
    "print(f'rmse_difference  {mean_squared_error(df[\"soi_difference\"], df[\"soi_CRU\"]):.2f}')\n",
    "print(f'rmse_difference  {mean_squared_error(df[\"soi_difference\"], df[\"soi_NOAA\"]):.2f}')"
   ]
  },
  {
   "cell_type": "code",
   "execution_count": null,
   "id": "8ad848bb-72a6-46de-bf89-d91535ce75b0",
   "metadata": {},
   "outputs": [],
   "source": []
  },
  {
   "cell_type": "code",
   "execution_count": null,
   "id": "23ddd494-712c-471b-97f0-d0c9fca3e4cd",
   "metadata": {
    "tags": []
   },
   "outputs": [],
   "source": [
    "df_reference"
   ]
  },
  {
   "cell_type": "code",
   "execution_count": null,
   "id": "6d48e62b-b173-4904-85cb-a6afbc481104",
   "metadata": {},
   "outputs": [],
   "source": []
  },
  {
   "cell_type": "code",
   "execution_count": null,
   "id": "2141b42c-e03f-4b99-925a-6c13f40866a2",
   "metadata": {},
   "outputs": [],
   "source": []
  },
  {
   "cell_type": "code",
   "execution_count": null,
   "id": "79547e8a-0eff-462b-9d7c-1c86b8148991",
   "metadata": {},
   "outputs": [],
   "source": []
  },
  {
   "cell_type": "markdown",
   "id": "c157c0c0-0af6-4e15-a984-324397a1ae35",
   "metadata": {
    "tags": []
   },
   "source": [
    "# Try Apply SOI to existing processed data"
   ]
  },
  {
   "cell_type": "code",
   "execution_count": null,
   "id": "192123c1-6c1e-46fa-9724-db0965f1ce4d",
   "metadata": {
    "tags": []
   },
   "outputs": [],
   "source": [
    "COMMON_DIR = \"/Volumes/T7/ExtremeWeather\"\n",
    "DATA_DIR_SIM = f\"{COMMON_DIR}/Data_WeatherAtHome/climatology_1986-2014\"\n",
    "files = sorted(glob(f\"{DATA_DIR_SIM}/Processed/year=2010/region=*/sim=*/model_tag=*/data.parquet\"))"
   ]
  },
  {
   "cell_type": "code",
   "execution_count": null,
   "id": "ed9ab38d-1055-44f5-9433-82a193ee59ee",
   "metadata": {
    "tags": []
   },
   "outputs": [],
   "source": [
    "file_path = files[0]\n",
    "\n",
    "year = re.findall(r\"year=(.*?)/\", file_path)[0]\n",
    "region = re.findall(r\"region=(.*?)/\", file_path)[0]\n",
    "sim_type = re.findall(r\"sim=(.*?)/\", file_path)[0]\n",
    "model_tag = re.findall(r\"model_tag=(.*?)/\", file_path)[0]\n",
    "\n",
    "df = pd.read_parquet(file_path)\n",
    "df_soi = pd.read_parquet(f\"../wah_soi/method=ref_model_world/sim={sim_type}/model_tag={model_tag}/\")"
   ]
  },
  {
   "cell_type": "code",
   "execution_count": null,
   "id": "1377da92-6c93-489e-8355-233f13ad8031",
   "metadata": {
    "tags": []
   },
   "outputs": [],
   "source": [
    "group_cols = [\n",
    "    \"year\",\n",
    "    \"month\"\n",
    "]\n",
    "\n",
    "df.drop(columns=[\"soi\"], inplace=True)\n",
    "\n",
    "df = df.merge(\n",
    "    right=df_soi[group_cols + [\"soi\"]],\n",
    "    on=group_cols,\n",
    "    how=\"left\"\n",
    ")"
   ]
  },
  {
   "cell_type": "code",
   "execution_count": null,
   "id": "54280046-c8df-4aa9-919e-2d15656be269",
   "metadata": {
    "tags": []
   },
   "outputs": [],
   "source": [
    "df"
   ]
  },
  {
   "cell_type": "code",
   "execution_count": null,
   "id": "17807b9a-1b56-490d-863a-8102000e6b5d",
   "metadata": {},
   "outputs": [],
   "source": []
  },
  {
   "cell_type": "markdown",
   "id": "1a3c3b10-2ad0-48eb-b9ab-b1035584b3fe",
   "metadata": {
    "jp-MarkdownHeadingCollapsed": true,
    "tags": []
   },
   "source": [
    "# Placeholder"
   ]
  },
  {
   "cell_type": "code",
   "execution_count": null,
   "id": "5155e81a-2343-4591-8714-7fb5af3924b8",
   "metadata": {},
   "outputs": [],
   "source": [
    "df_wah = pd.read_parquet(\"../processed_monthly_WaH.parquet\")"
   ]
  },
  {
   "cell_type": "code",
   "execution_count": null,
   "id": "a3272494-bd8f-4769-aba7-da778201febf",
   "metadata": {
    "tags": []
   },
   "outputs": [],
   "source": [
    "df_wah"
   ]
  },
  {
   "cell_type": "code",
   "execution_count": null,
   "id": "b6423ed3-32c7-4b44-8f63-a41d8b9807ad",
   "metadata": {
    "tags": []
   },
   "outputs": [],
   "source": [
    "df_cru = pd.read_csv(\"../Data/SOI_CRU.csv\")\n",
    "df_cru = df_cru.loc[df_cru[\"year\"].between(1986.0, 2014.0)].reset_index(drop=True)\n",
    "df_cru[\"year\"] = df_cru[\"year\"].astype(int)\n",
    "df_cru[\"month\"] = df_cru[\"month\"].astype(int).astype(str).str.rjust(2, '0')\n",
    "df_cru[\"soi\"] = df_cru[\"soi\"].astype(float).round(1)\n",
    "df_cru"
   ]
  },
  {
   "cell_type": "code",
   "execution_count": null,
   "id": "96d690d8-081a-47f9-85e4-d8b8ae3b6cb5",
   "metadata": {
    "tags": []
   },
   "outputs": [],
   "source": [
    "df_merged = df_wah.merge(\n",
    "    right=df_cru,\n",
    "    how=\"left\",\n",
    "    on=[\"year\", \"month\"],\n",
    "    suffixes=(\"_model\", \"_real\")\n",
    ")\n",
    "\n",
    "df_merged[\"year_month\"] = df_merged[\"year\"].astype(str) + \"_\" + df_merged[\"month\"].astype(str)\n",
    "df_merged"
   ]
  },
  {
   "cell_type": "code",
   "execution_count": null,
   "id": "863c7f05-3d79-48d3-90b8-35aed5eaa621",
   "metadata": {
    "tags": []
   },
   "outputs": [],
   "source": [
    "df_merged.to_parquet(\"../processed_monthly_WaH_test.parquet\")"
   ]
  },
  {
   "cell_type": "code",
   "execution_count": null,
   "id": "bcd1f27b-7f99-4284-95d3-03aa7fa0825b",
   "metadata": {},
   "outputs": [],
   "source": []
  },
  {
   "cell_type": "code",
   "execution_count": null,
   "id": "ed4cc8f0-ad91-40d7-a8ff-956ede9ec0ca",
   "metadata": {},
   "outputs": [],
   "source": []
  },
  {
   "cell_type": "code",
   "execution_count": null,
   "id": "cac734a2-cebc-4c23-aacf-00be12ff874c",
   "metadata": {},
   "outputs": [],
   "source": []
  },
  {
   "cell_type": "code",
   "execution_count": null,
   "id": "e98f736a-d885-44e8-8004-db30c66709e7",
   "metadata": {},
   "outputs": [],
   "source": []
  },
  {
   "cell_type": "code",
   "execution_count": null,
   "id": "9121fbef-1843-44d1-85f1-efd482424cad",
   "metadata": {
    "tags": []
   },
   "outputs": [],
   "source": [
    "df_subset"
   ]
  },
  {
   "cell_type": "code",
   "execution_count": null,
   "id": "c0dc4269-ac53-4263-8a0a-8c6f0d98df9f",
   "metadata": {},
   "outputs": [],
   "source": []
  },
  {
   "cell_type": "code",
   "execution_count": null,
   "id": "6a4f51ef-fac2-43b1-b354-932c0d42ad05",
   "metadata": {},
   "outputs": [],
   "source": []
  },
  {
   "cell_type": "code",
   "execution_count": null,
   "id": "7d4b77bb-218f-42c2-877a-d776dc359754",
   "metadata": {
    "tags": []
   },
   "outputs": [],
   "source": [
    "x_values = df_subset[\"year_month\"].unique()\n",
    "\n",
    "df_sub_ALL = df_subset.loc[df_subset[\"sim\"] == \"ALL\"]\n",
    "df_sub_NAT = df_subset.loc[df_subset[\"sim\"] == \"NAT\"]\n",
    "\n",
    "fig = go.Figure()\n",
    "\n",
    "fig.add_trace(\n",
    "    go.Scatter(\n",
    "        x=df_sub_ALL[\"year_month\"],\n",
    "        y=df_sub_ALL[\"soi_model\"],\n",
    "        marker={\"color\":\"rgba(0, 0, 255, 0.5)\"},\n",
    "        # line={\"color\":\"rgba(0, 0, 255, 0.5)\"},\n",
    "        # mode=\"markers+lines\",\n",
    "        mode=\"markers\",\n",
    "        name=\"ALL model SOI\"\n",
    "    )\n",
    ")\n",
    "\n",
    "fig.add_trace(\n",
    "    go.Scatter(\n",
    "        x=df_sub_NAT[\"year_month\"],\n",
    "        y=df_sub_NAT[\"soi_model\"],\n",
    "        marker={\"color\":\"rgba(255, 0, 0, 0.5)\"},\n",
    "        # line={\"color\":\"rgba(255, 0, 0, 0.5)\"},\n",
    "        # mode=\"markers+lines\",\n",
    "        mode=\"markers\",\n",
    "        name=\"NAT model SOI\"\n",
    "    )\n",
    ")\n",
    "\n",
    "fig.add_trace(\n",
    "    go.Scatter(\n",
    "        x=df_sub_ALL[\"year_month\"],\n",
    "        y=df_sub_ALL[\"soi_real\"],\n",
    "        marker={\"color\":\"rgba(0, 200, 0, 1.0)\"},\n",
    "        # line={\"color\":\"rgba(0, 200, 0, 1.0)\"},\n",
    "        # mode=\"markers+lines\",\n",
    "        mode=\"markers\",\n",
    "        name=\"Real world SOI\"\n",
    "    )\n",
    ")\n",
    "\n",
    "fig.update_layout(height=600)\n",
    "fig"
   ]
  },
  {
   "cell_type": "code",
   "execution_count": null,
   "id": "12804add-8f66-49d8-9fb2-c339d53fd06a",
   "metadata": {},
   "outputs": [],
   "source": []
  },
  {
   "cell_type": "code",
   "execution_count": null,
   "id": "35cc5385-c4e7-4b45-891c-2f7254831709",
   "metadata": {},
   "outputs": [],
   "source": []
  },
  {
   "cell_type": "code",
   "execution_count": null,
   "id": "76b46f09-78ae-4818-8faa-c1edbdda34cb",
   "metadata": {},
   "outputs": [],
   "source": []
  },
  {
   "cell_type": "code",
   "execution_count": null,
   "id": "7482fc06-cb1c-46cd-b3fa-7082e76bda92",
   "metadata": {},
   "outputs": [],
   "source": []
  },
  {
   "cell_type": "code",
   "execution_count": null,
   "id": "e4f3f8f9-84a0-4caa-acc6-0dcb32895f12",
   "metadata": {},
   "outputs": [],
   "source": []
  },
  {
   "cell_type": "code",
   "execution_count": null,
   "id": "ec5c9f14-653f-40b2-a407-f9fa52a465e9",
   "metadata": {},
   "outputs": [],
   "source": []
  },
  {
   "cell_type": "code",
   "execution_count": null,
   "id": "6940e474-6a5c-4bd5-8668-f551406f8c04",
   "metadata": {},
   "outputs": [],
   "source": []
  }
 ],
 "metadata": {
  "kernelspec": {
   "display_name": "Python 3 (ipykernel)",
   "language": "python",
   "name": "python3"
  },
  "language_info": {
   "codemirror_mode": {
    "name": "ipython",
    "version": 3
   },
   "file_extension": ".py",
   "mimetype": "text/x-python",
   "name": "python",
   "nbconvert_exporter": "python",
   "pygments_lexer": "ipython3",
   "version": "3.9.12"
  }
 },
 "nbformat": 4,
 "nbformat_minor": 5
}
